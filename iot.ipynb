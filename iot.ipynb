{
 "cells": [
  {
   "cell_type": "code",
   "execution_count": 1,
   "metadata": {
    "id": "lGSIG46yA_w4"
   },
   "outputs": [],
   "source": [
    "import numpy as np"
   ]
  },
  {
   "cell_type": "markdown",
   "metadata": {
    "id": "pQpeaWYPeuhV"
   },
   "source": [
    "# New Section"
   ]
  },
  {
   "cell_type": "code",
   "execution_count": 2,
   "metadata": {
    "id": "Zn1CMepWBM9r"
   },
   "outputs": [],
   "source": [
    "import pandas as pd\n",
    "import matplotlib.pyplot as plt"
   ]
  },
  {
   "cell_type": "code",
   "execution_count": 3,
   "metadata": {
    "id": "beBcFIhmBWcZ",
    "scrolled": true
   },
   "outputs": [],
   "source": [
    "#iot=pd.read_csv(r\"http://localhost:8888/edit/Documents/working_projects/AI_ML/cleaned_iot.csv\")\n",
    "\n",
    "# Provide the correct absolute file path to your CSV file\n",
    "file_path = r\"C:\\Users\\hp\\Documents\\working_projects\\AI_ML\\cleaned_iot.csv\"\n",
    "\n",
    "# Read the CSV file\n",
    "iot = pd.read_csv(file_path)\n"
   ]
  },
  {
   "cell_type": "code",
   "execution_count": 4,
   "metadata": {
    "colab": {
     "base_uri": "https://localhost:8080/",
     "height": 359
    },
    "id": "RKFDOzhhgwiS",
    "outputId": "6a7c4994-d66c-4b46-e107-0e7e32e6a0b4"
   },
   "outputs": [
    {
     "data": {
      "text/html": [
       "<div>\n",
       "<style scoped>\n",
       "    .dataframe tbody tr th:only-of-type {\n",
       "        vertical-align: middle;\n",
       "    }\n",
       "\n",
       "    .dataframe tbody tr th {\n",
       "        vertical-align: top;\n",
       "    }\n",
       "\n",
       "    .dataframe thead th {\n",
       "        text-align: right;\n",
       "    }\n",
       "</style>\n",
       "<table border=\"1\" class=\"dataframe\">\n",
       "  <thead>\n",
       "    <tr style=\"text-align: right;\">\n",
       "      <th></th>\n",
       "      <th>flow_duration</th>\n",
       "      <th>Header_Length</th>\n",
       "      <th>Protocol Type</th>\n",
       "      <th>Duration</th>\n",
       "      <th>Rate</th>\n",
       "      <th>Srate</th>\n",
       "      <th>Drate</th>\n",
       "      <th>fin_flag_number</th>\n",
       "      <th>syn_flag_number</th>\n",
       "      <th>rst_flag_number</th>\n",
       "      <th>...</th>\n",
       "      <th>Std</th>\n",
       "      <th>Tot size</th>\n",
       "      <th>IAT</th>\n",
       "      <th>Number</th>\n",
       "      <th>Magnitue</th>\n",
       "      <th>Radius</th>\n",
       "      <th>Covariance</th>\n",
       "      <th>Variance</th>\n",
       "      <th>Weight</th>\n",
       "      <th>label</th>\n",
       "    </tr>\n",
       "  </thead>\n",
       "  <tbody>\n",
       "    <tr>\n",
       "      <th>0</th>\n",
       "      <td>0.000000</td>\n",
       "      <td>54.00</td>\n",
       "      <td>6.00</td>\n",
       "      <td>64.00</td>\n",
       "      <td>0.329807</td>\n",
       "      <td>0.329807</td>\n",
       "      <td>0.0</td>\n",
       "      <td>1</td>\n",
       "      <td>0</td>\n",
       "      <td>1</td>\n",
       "      <td>...</td>\n",
       "      <td>0.000000</td>\n",
       "      <td>54.00</td>\n",
       "      <td>83343831.92</td>\n",
       "      <td>9.5</td>\n",
       "      <td>10.392305</td>\n",
       "      <td>0.000000</td>\n",
       "      <td>0.000000</td>\n",
       "      <td>0.00</td>\n",
       "      <td>141.55</td>\n",
       "      <td>DDoS-RSTFINFlood</td>\n",
       "    </tr>\n",
       "    <tr>\n",
       "      <th>1</th>\n",
       "      <td>0.000000</td>\n",
       "      <td>57.04</td>\n",
       "      <td>6.33</td>\n",
       "      <td>64.00</td>\n",
       "      <td>4.290556</td>\n",
       "      <td>4.290556</td>\n",
       "      <td>0.0</td>\n",
       "      <td>0</td>\n",
       "      <td>0</td>\n",
       "      <td>0</td>\n",
       "      <td>...</td>\n",
       "      <td>2.822973</td>\n",
       "      <td>57.04</td>\n",
       "      <td>82926067.47</td>\n",
       "      <td>9.5</td>\n",
       "      <td>10.464666</td>\n",
       "      <td>4.010353</td>\n",
       "      <td>160.987842</td>\n",
       "      <td>0.05</td>\n",
       "      <td>141.55</td>\n",
       "      <td>DoS-TCP_Flood</td>\n",
       "    </tr>\n",
       "    <tr>\n",
       "      <th>2</th>\n",
       "      <td>0.000000</td>\n",
       "      <td>0.00</td>\n",
       "      <td>1.00</td>\n",
       "      <td>64.00</td>\n",
       "      <td>33.396799</td>\n",
       "      <td>33.396799</td>\n",
       "      <td>0.0</td>\n",
       "      <td>0</td>\n",
       "      <td>0</td>\n",
       "      <td>0</td>\n",
       "      <td>...</td>\n",
       "      <td>0.000000</td>\n",
       "      <td>42.00</td>\n",
       "      <td>83127993.93</td>\n",
       "      <td>9.5</td>\n",
       "      <td>9.165151</td>\n",
       "      <td>0.000000</td>\n",
       "      <td>0.000000</td>\n",
       "      <td>0.00</td>\n",
       "      <td>141.55</td>\n",
       "      <td>DDoS-ICMP_Flood</td>\n",
       "    </tr>\n",
       "    <tr>\n",
       "      <th>3</th>\n",
       "      <td>0.328175</td>\n",
       "      <td>76175.00</td>\n",
       "      <td>17.00</td>\n",
       "      <td>64.00</td>\n",
       "      <td>4642.133010</td>\n",
       "      <td>4642.133010</td>\n",
       "      <td>0.0</td>\n",
       "      <td>0</td>\n",
       "      <td>0</td>\n",
       "      <td>0</td>\n",
       "      <td>...</td>\n",
       "      <td>0.000000</td>\n",
       "      <td>50.00</td>\n",
       "      <td>83015696.38</td>\n",
       "      <td>9.5</td>\n",
       "      <td>10.000000</td>\n",
       "      <td>0.000000</td>\n",
       "      <td>0.000000</td>\n",
       "      <td>0.00</td>\n",
       "      <td>141.55</td>\n",
       "      <td>DoS-UDP_Flood</td>\n",
       "    </tr>\n",
       "    <tr>\n",
       "      <th>4</th>\n",
       "      <td>0.117320</td>\n",
       "      <td>101.73</td>\n",
       "      <td>6.11</td>\n",
       "      <td>65.91</td>\n",
       "      <td>6.202211</td>\n",
       "      <td>6.202211</td>\n",
       "      <td>0.0</td>\n",
       "      <td>0</td>\n",
       "      <td>1</td>\n",
       "      <td>0</td>\n",
       "      <td>...</td>\n",
       "      <td>23.113111</td>\n",
       "      <td>57.88</td>\n",
       "      <td>82972999.18</td>\n",
       "      <td>9.5</td>\n",
       "      <td>11.346876</td>\n",
       "      <td>32.716243</td>\n",
       "      <td>3016.808286</td>\n",
       "      <td>0.19</td>\n",
       "      <td>141.55</td>\n",
       "      <td>DoS-SYN_Flood</td>\n",
       "    </tr>\n",
       "  </tbody>\n",
       "</table>\n",
       "<p>5 rows × 47 columns</p>\n",
       "</div>"
      ],
      "text/plain": [
       "   flow_duration  Header_Length  Protocol Type  Duration         Rate  \\\n",
       "0       0.000000          54.00           6.00     64.00     0.329807   \n",
       "1       0.000000          57.04           6.33     64.00     4.290556   \n",
       "2       0.000000           0.00           1.00     64.00    33.396799   \n",
       "3       0.328175       76175.00          17.00     64.00  4642.133010   \n",
       "4       0.117320         101.73           6.11     65.91     6.202211   \n",
       "\n",
       "         Srate  Drate  fin_flag_number  syn_flag_number  rst_flag_number  ...  \\\n",
       "0     0.329807    0.0                1                0                1  ...   \n",
       "1     4.290556    0.0                0                0                0  ...   \n",
       "2    33.396799    0.0                0                0                0  ...   \n",
       "3  4642.133010    0.0                0                0                0  ...   \n",
       "4     6.202211    0.0                0                1                0  ...   \n",
       "\n",
       "         Std  Tot size          IAT  Number   Magnitue     Radius  \\\n",
       "0   0.000000     54.00  83343831.92     9.5  10.392305   0.000000   \n",
       "1   2.822973     57.04  82926067.47     9.5  10.464666   4.010353   \n",
       "2   0.000000     42.00  83127993.93     9.5   9.165151   0.000000   \n",
       "3   0.000000     50.00  83015696.38     9.5  10.000000   0.000000   \n",
       "4  23.113111     57.88  82972999.18     9.5  11.346876  32.716243   \n",
       "\n",
       "    Covariance  Variance  Weight             label  \n",
       "0     0.000000      0.00  141.55  DDoS-RSTFINFlood  \n",
       "1   160.987842      0.05  141.55     DoS-TCP_Flood  \n",
       "2     0.000000      0.00  141.55   DDoS-ICMP_Flood  \n",
       "3     0.000000      0.00  141.55     DoS-UDP_Flood  \n",
       "4  3016.808286      0.19  141.55     DoS-SYN_Flood  \n",
       "\n",
       "[5 rows x 47 columns]"
      ]
     },
     "execution_count": 4,
     "metadata": {},
     "output_type": "execute_result"
    }
   ],
   "source": [
    "iot.head()"
   ]
  },
  {
   "cell_type": "code",
   "execution_count": 5,
   "metadata": {
    "colab": {
     "base_uri": "https://localhost:8080/",
     "height": 367
    },
    "id": "5WOQ5cu9hDw9",
    "outputId": "900e91e6-faf5-4c51-8b40-503a4a505028"
   },
   "outputs": [
    {
     "data": {
      "text/html": [
       "<div>\n",
       "<style scoped>\n",
       "    .dataframe tbody tr th:only-of-type {\n",
       "        vertical-align: middle;\n",
       "    }\n",
       "\n",
       "    .dataframe tbody tr th {\n",
       "        vertical-align: top;\n",
       "    }\n",
       "\n",
       "    .dataframe thead th {\n",
       "        text-align: right;\n",
       "    }\n",
       "</style>\n",
       "<table border=\"1\" class=\"dataframe\">\n",
       "  <thead>\n",
       "    <tr style=\"text-align: right;\">\n",
       "      <th></th>\n",
       "      <th>flow_duration</th>\n",
       "      <th>Header_Length</th>\n",
       "      <th>Protocol Type</th>\n",
       "      <th>Duration</th>\n",
       "      <th>Rate</th>\n",
       "      <th>Srate</th>\n",
       "      <th>Drate</th>\n",
       "      <th>fin_flag_number</th>\n",
       "      <th>syn_flag_number</th>\n",
       "      <th>rst_flag_number</th>\n",
       "      <th>...</th>\n",
       "      <th>AVG</th>\n",
       "      <th>Std</th>\n",
       "      <th>Tot size</th>\n",
       "      <th>IAT</th>\n",
       "      <th>Number</th>\n",
       "      <th>Magnitue</th>\n",
       "      <th>Radius</th>\n",
       "      <th>Covariance</th>\n",
       "      <th>Variance</th>\n",
       "      <th>Weight</th>\n",
       "    </tr>\n",
       "  </thead>\n",
       "  <tbody>\n",
       "    <tr>\n",
       "      <th>count</th>\n",
       "      <td>1.048575e+06</td>\n",
       "      <td>1.048575e+06</td>\n",
       "      <td>1.048575e+06</td>\n",
       "      <td>1.048575e+06</td>\n",
       "      <td>1.048575e+06</td>\n",
       "      <td>1.048575e+06</td>\n",
       "      <td>1.048575e+06</td>\n",
       "      <td>1.048575e+06</td>\n",
       "      <td>1.048575e+06</td>\n",
       "      <td>1.048575e+06</td>\n",
       "      <td>...</td>\n",
       "      <td>1.048575e+06</td>\n",
       "      <td>1.048575e+06</td>\n",
       "      <td>1.048575e+06</td>\n",
       "      <td>1.048575e+06</td>\n",
       "      <td>1.048575e+06</td>\n",
       "      <td>1.048575e+06</td>\n",
       "      <td>1.048575e+06</td>\n",
       "      <td>1.048575e+06</td>\n",
       "      <td>1.048575e+06</td>\n",
       "      <td>1.048575e+06</td>\n",
       "    </tr>\n",
       "    <tr>\n",
       "      <th>mean</th>\n",
       "      <td>5.763553e+00</td>\n",
       "      <td>7.759537e+04</td>\n",
       "      <td>9.062979e+00</td>\n",
       "      <td>6.635523e+01</td>\n",
       "      <td>9.146945e+03</td>\n",
       "      <td>9.146945e+03</td>\n",
       "      <td>1.807621e-06</td>\n",
       "      <td>8.655842e-02</td>\n",
       "      <td>2.073090e-01</td>\n",
       "      <td>9.057149e-02</td>\n",
       "      <td>...</td>\n",
       "      <td>1.248502e+02</td>\n",
       "      <td>3.345817e+01</td>\n",
       "      <td>1.248978e+02</td>\n",
       "      <td>8.317382e+07</td>\n",
       "      <td>9.497998e+00</td>\n",
       "      <td>1.312711e+01</td>\n",
       "      <td>4.728151e+01</td>\n",
       "      <td>3.147998e+04</td>\n",
       "      <td>9.635824e-02</td>\n",
       "      <td>1.414999e+02</td>\n",
       "    </tr>\n",
       "    <tr>\n",
       "      <th>std</th>\n",
       "      <td>2.965660e+02</td>\n",
       "      <td>4.664043e+05</td>\n",
       "      <td>8.936737e+00</td>\n",
       "      <td>1.408680e+01</td>\n",
       "      <td>9.974794e+04</td>\n",
       "      <td>9.974794e+04</td>\n",
       "      <td>8.501385e-04</td>\n",
       "      <td>2.811870e-01</td>\n",
       "      <td>4.053790e-01</td>\n",
       "      <td>2.869989e-01</td>\n",
       "      <td>...</td>\n",
       "      <td>2.420296e+02</td>\n",
       "      <td>1.622552e+02</td>\n",
       "      <td>2.429223e+02</td>\n",
       "      <td>1.703857e+07</td>\n",
       "      <td>8.187710e-01</td>\n",
       "      <td>8.639921e+00</td>\n",
       "      <td>2.294819e+02</td>\n",
       "      <td>3.645895e+05</td>\n",
       "      <td>2.327718e-01</td>\n",
       "      <td>2.105725e+01</td>\n",
       "    </tr>\n",
       "    <tr>\n",
       "      <th>min</th>\n",
       "      <td>0.000000e+00</td>\n",
       "      <td>0.000000e+00</td>\n",
       "      <td>0.000000e+00</td>\n",
       "      <td>0.000000e+00</td>\n",
       "      <td>0.000000e+00</td>\n",
       "      <td>0.000000e+00</td>\n",
       "      <td>0.000000e+00</td>\n",
       "      <td>0.000000e+00</td>\n",
       "      <td>0.000000e+00</td>\n",
       "      <td>0.000000e+00</td>\n",
       "      <td>...</td>\n",
       "      <td>4.200000e+01</td>\n",
       "      <td>0.000000e+00</td>\n",
       "      <td>4.200000e+01</td>\n",
       "      <td>0.000000e+00</td>\n",
       "      <td>1.000000e+00</td>\n",
       "      <td>9.165151e+00</td>\n",
       "      <td>0.000000e+00</td>\n",
       "      <td>0.000000e+00</td>\n",
       "      <td>0.000000e+00</td>\n",
       "      <td>1.000000e+00</td>\n",
       "    </tr>\n",
       "    <tr>\n",
       "      <th>25%</th>\n",
       "      <td>0.000000e+00</td>\n",
       "      <td>5.400000e+01</td>\n",
       "      <td>6.000000e+00</td>\n",
       "      <td>6.400000e+01</td>\n",
       "      <td>2.087155e+00</td>\n",
       "      <td>2.087155e+00</td>\n",
       "      <td>0.000000e+00</td>\n",
       "      <td>0.000000e+00</td>\n",
       "      <td>0.000000e+00</td>\n",
       "      <td>0.000000e+00</td>\n",
       "      <td>...</td>\n",
       "      <td>5.000000e+01</td>\n",
       "      <td>0.000000e+00</td>\n",
       "      <td>5.000000e+01</td>\n",
       "      <td>8.307157e+07</td>\n",
       "      <td>9.500000e+00</td>\n",
       "      <td>1.000000e+01</td>\n",
       "      <td>0.000000e+00</td>\n",
       "      <td>0.000000e+00</td>\n",
       "      <td>0.000000e+00</td>\n",
       "      <td>1.415500e+02</td>\n",
       "    </tr>\n",
       "    <tr>\n",
       "      <th>50%</th>\n",
       "      <td>0.000000e+00</td>\n",
       "      <td>5.400000e+01</td>\n",
       "      <td>6.000000e+00</td>\n",
       "      <td>6.400000e+01</td>\n",
       "      <td>1.581371e+01</td>\n",
       "      <td>1.581371e+01</td>\n",
       "      <td>0.000000e+00</td>\n",
       "      <td>0.000000e+00</td>\n",
       "      <td>0.000000e+00</td>\n",
       "      <td>0.000000e+00</td>\n",
       "      <td>...</td>\n",
       "      <td>5.400000e+01</td>\n",
       "      <td>0.000000e+00</td>\n",
       "      <td>5.400000e+01</td>\n",
       "      <td>8.312452e+07</td>\n",
       "      <td>9.500000e+00</td>\n",
       "      <td>1.039230e+01</td>\n",
       "      <td>0.000000e+00</td>\n",
       "      <td>0.000000e+00</td>\n",
       "      <td>0.000000e+00</td>\n",
       "      <td>1.415500e+02</td>\n",
       "    </tr>\n",
       "    <tr>\n",
       "      <th>75%</th>\n",
       "      <td>1.042881e-01</td>\n",
       "      <td>2.781200e+02</td>\n",
       "      <td>1.428000e+01</td>\n",
       "      <td>6.400000e+01</td>\n",
       "      <td>1.174380e+02</td>\n",
       "      <td>1.174380e+02</td>\n",
       "      <td>0.000000e+00</td>\n",
       "      <td>0.000000e+00</td>\n",
       "      <td>0.000000e+00</td>\n",
       "      <td>0.000000e+00</td>\n",
       "      <td>...</td>\n",
       "      <td>5.405208e+01</td>\n",
       "      <td>3.777740e-01</td>\n",
       "      <td>5.406000e+01</td>\n",
       "      <td>8.334390e+07</td>\n",
       "      <td>9.500000e+00</td>\n",
       "      <td>1.039675e+01</td>\n",
       "      <td>5.059213e-01</td>\n",
       "      <td>1.370916e+00</td>\n",
       "      <td>8.000000e-02</td>\n",
       "      <td>1.415500e+02</td>\n",
       "    </tr>\n",
       "    <tr>\n",
       "      <th>max</th>\n",
       "      <td>9.943576e+04</td>\n",
       "      <td>9.815555e+06</td>\n",
       "      <td>4.700000e+01</td>\n",
       "      <td>2.550000e+02</td>\n",
       "      <td>7.340032e+06</td>\n",
       "      <td>7.340032e+06</td>\n",
       "      <td>8.484654e-01</td>\n",
       "      <td>1.000000e+00</td>\n",
       "      <td>1.000000e+00</td>\n",
       "      <td>1.000000e+00</td>\n",
       "      <td>...</td>\n",
       "      <td>8.040961e+03</td>\n",
       "      <td>1.099626e+04</td>\n",
       "      <td>1.309800e+04</td>\n",
       "      <td>1.676394e+08</td>\n",
       "      <td>1.500000e+01</td>\n",
       "      <td>1.252094e+02</td>\n",
       "      <td>1.555106e+04</td>\n",
       "      <td>1.372844e+08</td>\n",
       "      <td>1.000000e+00</td>\n",
       "      <td>2.446000e+02</td>\n",
       "    </tr>\n",
       "  </tbody>\n",
       "</table>\n",
       "<p>8 rows × 46 columns</p>\n",
       "</div>"
      ],
      "text/plain": [
       "       flow_duration  Header_Length  Protocol Type      Duration  \\\n",
       "count   1.048575e+06   1.048575e+06   1.048575e+06  1.048575e+06   \n",
       "mean    5.763553e+00   7.759537e+04   9.062979e+00  6.635523e+01   \n",
       "std     2.965660e+02   4.664043e+05   8.936737e+00  1.408680e+01   \n",
       "min     0.000000e+00   0.000000e+00   0.000000e+00  0.000000e+00   \n",
       "25%     0.000000e+00   5.400000e+01   6.000000e+00  6.400000e+01   \n",
       "50%     0.000000e+00   5.400000e+01   6.000000e+00  6.400000e+01   \n",
       "75%     1.042881e-01   2.781200e+02   1.428000e+01  6.400000e+01   \n",
       "max     9.943576e+04   9.815555e+06   4.700000e+01  2.550000e+02   \n",
       "\n",
       "               Rate         Srate         Drate  fin_flag_number  \\\n",
       "count  1.048575e+06  1.048575e+06  1.048575e+06     1.048575e+06   \n",
       "mean   9.146945e+03  9.146945e+03  1.807621e-06     8.655842e-02   \n",
       "std    9.974794e+04  9.974794e+04  8.501385e-04     2.811870e-01   \n",
       "min    0.000000e+00  0.000000e+00  0.000000e+00     0.000000e+00   \n",
       "25%    2.087155e+00  2.087155e+00  0.000000e+00     0.000000e+00   \n",
       "50%    1.581371e+01  1.581371e+01  0.000000e+00     0.000000e+00   \n",
       "75%    1.174380e+02  1.174380e+02  0.000000e+00     0.000000e+00   \n",
       "max    7.340032e+06  7.340032e+06  8.484654e-01     1.000000e+00   \n",
       "\n",
       "       syn_flag_number  rst_flag_number  ...           AVG           Std  \\\n",
       "count     1.048575e+06     1.048575e+06  ...  1.048575e+06  1.048575e+06   \n",
       "mean      2.073090e-01     9.057149e-02  ...  1.248502e+02  3.345817e+01   \n",
       "std       4.053790e-01     2.869989e-01  ...  2.420296e+02  1.622552e+02   \n",
       "min       0.000000e+00     0.000000e+00  ...  4.200000e+01  0.000000e+00   \n",
       "25%       0.000000e+00     0.000000e+00  ...  5.000000e+01  0.000000e+00   \n",
       "50%       0.000000e+00     0.000000e+00  ...  5.400000e+01  0.000000e+00   \n",
       "75%       0.000000e+00     0.000000e+00  ...  5.405208e+01  3.777740e-01   \n",
       "max       1.000000e+00     1.000000e+00  ...  8.040961e+03  1.099626e+04   \n",
       "\n",
       "           Tot size           IAT        Number      Magnitue        Radius  \\\n",
       "count  1.048575e+06  1.048575e+06  1.048575e+06  1.048575e+06  1.048575e+06   \n",
       "mean   1.248978e+02  8.317382e+07  9.497998e+00  1.312711e+01  4.728151e+01   \n",
       "std    2.429223e+02  1.703857e+07  8.187710e-01  8.639921e+00  2.294819e+02   \n",
       "min    4.200000e+01  0.000000e+00  1.000000e+00  9.165151e+00  0.000000e+00   \n",
       "25%    5.000000e+01  8.307157e+07  9.500000e+00  1.000000e+01  0.000000e+00   \n",
       "50%    5.400000e+01  8.312452e+07  9.500000e+00  1.039230e+01  0.000000e+00   \n",
       "75%    5.406000e+01  8.334390e+07  9.500000e+00  1.039675e+01  5.059213e-01   \n",
       "max    1.309800e+04  1.676394e+08  1.500000e+01  1.252094e+02  1.555106e+04   \n",
       "\n",
       "         Covariance      Variance        Weight  \n",
       "count  1.048575e+06  1.048575e+06  1.048575e+06  \n",
       "mean   3.147998e+04  9.635824e-02  1.414999e+02  \n",
       "std    3.645895e+05  2.327718e-01  2.105725e+01  \n",
       "min    0.000000e+00  0.000000e+00  1.000000e+00  \n",
       "25%    0.000000e+00  0.000000e+00  1.415500e+02  \n",
       "50%    0.000000e+00  0.000000e+00  1.415500e+02  \n",
       "75%    1.370916e+00  8.000000e-02  1.415500e+02  \n",
       "max    1.372844e+08  1.000000e+00  2.446000e+02  \n",
       "\n",
       "[8 rows x 46 columns]"
      ]
     },
     "execution_count": 5,
     "metadata": {},
     "output_type": "execute_result"
    }
   ],
   "source": [
    "iot.describe()"
   ]
  },
  {
   "cell_type": "code",
   "execution_count": 6,
   "metadata": {
    "colab": {
     "base_uri": "https://localhost:8080/"
    },
    "id": "2eppwhtfhNwD",
    "outputId": "bdb69816-2aa8-4124-ee2c-4f7aaced3e7c"
   },
   "outputs": [
    {
     "name": "stdout",
     "output_type": "stream",
     "text": [
      "<class 'pandas.core.frame.DataFrame'>\n",
      "RangeIndex: 1048575 entries, 0 to 1048574\n",
      "Data columns (total 47 columns):\n",
      " #   Column           Non-Null Count    Dtype  \n",
      "---  ------           --------------    -----  \n",
      " 0   flow_duration    1048575 non-null  float64\n",
      " 1   Header_Length    1048575 non-null  float64\n",
      " 2   Protocol Type    1048575 non-null  float64\n",
      " 3   Duration         1048575 non-null  float64\n",
      " 4   Rate             1048575 non-null  float64\n",
      " 5   Srate            1048575 non-null  float64\n",
      " 6   Drate            1048575 non-null  float64\n",
      " 7   fin_flag_number  1048575 non-null  int64  \n",
      " 8   syn_flag_number  1048575 non-null  int64  \n",
      " 9   rst_flag_number  1048575 non-null  int64  \n",
      " 10  psh_flag_number  1048575 non-null  int64  \n",
      " 11  ack_flag_number  1048575 non-null  int64  \n",
      " 12  ece_flag_number  1048575 non-null  int64  \n",
      " 13  cwr_flag_number  1048575 non-null  int64  \n",
      " 14  ack_count        1048575 non-null  float64\n",
      " 15  syn_count        1048575 non-null  float64\n",
      " 16  fin_count        1048575 non-null  float64\n",
      " 17  urg_count        1048575 non-null  float64\n",
      " 18  rst_count        1048575 non-null  float64\n",
      " 19  HTTP             1048575 non-null  int64  \n",
      " 20  HTTPS            1048575 non-null  int64  \n",
      " 21  DNS              1048575 non-null  int64  \n",
      " 22  Telnet           1048575 non-null  int64  \n",
      " 23  SMTP             1048575 non-null  int64  \n",
      " 24  SSH              1048575 non-null  int64  \n",
      " 25  IRC              1048575 non-null  int64  \n",
      " 26  TCP              1048575 non-null  int64  \n",
      " 27  UDP              1048575 non-null  int64  \n",
      " 28  DHCP             1048575 non-null  int64  \n",
      " 29  ARP              1048575 non-null  int64  \n",
      " 30  ICMP             1048575 non-null  int64  \n",
      " 31  IPv              1048575 non-null  int64  \n",
      " 32  LLC              1048575 non-null  int64  \n",
      " 33  Tot sum          1048575 non-null  float64\n",
      " 34  Min              1048575 non-null  float64\n",
      " 35  Max              1048575 non-null  float64\n",
      " 36  AVG              1048575 non-null  float64\n",
      " 37  Std              1048575 non-null  float64\n",
      " 38  Tot size         1048575 non-null  float64\n",
      " 39  IAT              1048575 non-null  float64\n",
      " 40  Number           1048575 non-null  float64\n",
      " 41  Magnitue         1048575 non-null  float64\n",
      " 42  Radius           1048575 non-null  float64\n",
      " 43  Covariance       1048575 non-null  float64\n",
      " 44  Variance         1048575 non-null  float64\n",
      " 45  Weight           1048575 non-null  float64\n",
      " 46  label            1048575 non-null  object \n",
      "dtypes: float64(25), int64(21), object(1)\n",
      "memory usage: 376.0+ MB\n"
     ]
    }
   ],
   "source": [
    "iot.info()"
   ]
  },
  {
   "cell_type": "code",
   "execution_count": 7,
   "metadata": {
    "colab": {
     "base_uri": "https://localhost:8080/"
    },
    "id": "IeDEKLm1hRcz",
    "outputId": "45a68ade-ff6a-47f8-f626-ecb3b7d77045"
   },
   "outputs": [
    {
     "name": "stdout",
     "output_type": "stream",
     "text": [
      "(1048575, 47)\n"
     ]
    }
   ],
   "source": [
    "print(iot.shape)"
   ]
  },
  {
   "cell_type": "code",
   "execution_count": 8,
   "metadata": {
    "colab": {
     "base_uri": "https://localhost:8080/"
    },
    "id": "rtuoYH9_hYUG",
    "outputId": "e567e41f-03f6-4e01-cf15-e8c5fc99690c"
   },
   "outputs": [
    {
     "data": {
      "text/plain": [
       "flow_duration      0\n",
       "Header_Length      0\n",
       "Protocol Type      0\n",
       "Duration           0\n",
       "Rate               0\n",
       "Srate              0\n",
       "Drate              0\n",
       "fin_flag_number    0\n",
       "syn_flag_number    0\n",
       "rst_flag_number    0\n",
       "psh_flag_number    0\n",
       "ack_flag_number    0\n",
       "ece_flag_number    0\n",
       "cwr_flag_number    0\n",
       "ack_count          0\n",
       "syn_count          0\n",
       "fin_count          0\n",
       "urg_count          0\n",
       "rst_count          0\n",
       "HTTP               0\n",
       "HTTPS              0\n",
       "DNS                0\n",
       "Telnet             0\n",
       "SMTP               0\n",
       "SSH                0\n",
       "IRC                0\n",
       "TCP                0\n",
       "UDP                0\n",
       "DHCP               0\n",
       "ARP                0\n",
       "ICMP               0\n",
       "IPv                0\n",
       "LLC                0\n",
       "Tot sum            0\n",
       "Min                0\n",
       "Max                0\n",
       "AVG                0\n",
       "Std                0\n",
       "Tot size           0\n",
       "IAT                0\n",
       "Number             0\n",
       "Magnitue           0\n",
       "Radius             0\n",
       "Covariance         0\n",
       "Variance           0\n",
       "Weight             0\n",
       "label              0\n",
       "dtype: int64"
      ]
     },
     "execution_count": 8,
     "metadata": {},
     "output_type": "execute_result"
    }
   ],
   "source": [
    "iot.isnull().sum()"
   ]
  },
  {
   "cell_type": "code",
   "execution_count": 9,
   "metadata": {
    "colab": {
     "base_uri": "https://localhost:8080/"
    },
    "id": "UFBH-T3phjJo",
    "outputId": "9422a1e4-861d-42a1-b2eb-c61798db8123"
   },
   "outputs": [
    {
     "data": {
      "text/plain": [
       "65556"
      ]
     },
     "execution_count": 9,
     "metadata": {},
     "output_type": "execute_result"
    }
   ],
   "source": [
    "iot.duplicated().sum()"
   ]
  },
  {
   "cell_type": "code",
   "execution_count": 10,
   "metadata": {
    "id": "RYn7WVCvkg4k"
   },
   "outputs": [],
   "source": [
    "#iot.dropna(inplace=True)\n",
    "\n",
    "\n",
    "# Provide the correct absolute file path to your CSV file\n",
    "file_path = r\"C:\\Users\\hp\\Documents\\working_projects\\AI_ML\\cleaned_iot.csv\"\n",
    "\n",
    "# Read the CSV file and create the DataFrame\n",
    "iot = pd.read_csv(file_path)\n",
    "\n",
    "# Drop rows with missing values\n",
    "iot.dropna(inplace=True)\n"
   ]
  },
  {
   "cell_type": "code",
   "execution_count": 11,
   "metadata": {
    "id": "5ERBQQCmh5_A"
   },
   "outputs": [],
   "source": [
    "import pandas as pd\n",
    "from sklearn.model_selection import train_test_split\n",
    "from sklearn.ensemble import RandomForestClassifier\n",
    "from sklearn.metrics import accuracy_score,classification_report,confusion_matrix"
   ]
  },
  {
   "cell_type": "code",
   "execution_count": 12,
   "metadata": {
    "id": "Ese40Lb0ktOx"
   },
   "outputs": [],
   "source": [
    "X =iot.drop(\"label\",axis=1)\n",
    "Y=iot['label']"
   ]
  },
  {
   "cell_type": "code",
   "execution_count": 13,
   "metadata": {
    "id": "V8ur93mfjg9L"
   },
   "outputs": [],
   "source": [
    "X_train,X_test,Y_train,Y_test=train_test_split(X,Y,test_size=0.2,random_state=42)"
   ]
  },
  {
   "cell_type": "code",
   "execution_count": 14,
   "metadata": {
    "id": "UC0qbCjXj_t-"
   },
   "outputs": [],
   "source": [
    "rf_classifier=RandomForestClassifier(n_estimators=100,random_state=42)"
   ]
  },
  {
   "cell_type": "code",
   "execution_count": 22,
   "metadata": {
    "colab": {
     "base_uri": "https://localhost:8080/",
     "height": 74
    },
    "id": "3XB692-Ulo9f",
    "outputId": "687108d4-d096-4840-a17e-e34403b627d7"
   },
   "outputs": [
    {
     "data": {
      "text/html": [
       "<style>#sk-container-id-2 {color: black;background-color: white;}#sk-container-id-2 pre{padding: 0;}#sk-container-id-2 div.sk-toggleable {background-color: white;}#sk-container-id-2 label.sk-toggleable__label {cursor: pointer;display: block;width: 100%;margin-bottom: 0;padding: 0.3em;box-sizing: border-box;text-align: center;}#sk-container-id-2 label.sk-toggleable__label-arrow:before {content: \"▸\";float: left;margin-right: 0.25em;color: #696969;}#sk-container-id-2 label.sk-toggleable__label-arrow:hover:before {color: black;}#sk-container-id-2 div.sk-estimator:hover label.sk-toggleable__label-arrow:before {color: black;}#sk-container-id-2 div.sk-toggleable__content {max-height: 0;max-width: 0;overflow: hidden;text-align: left;background-color: #f0f8ff;}#sk-container-id-2 div.sk-toggleable__content pre {margin: 0.2em;color: black;border-radius: 0.25em;background-color: #f0f8ff;}#sk-container-id-2 input.sk-toggleable__control:checked~div.sk-toggleable__content {max-height: 200px;max-width: 100%;overflow: auto;}#sk-container-id-2 input.sk-toggleable__control:checked~label.sk-toggleable__label-arrow:before {content: \"▾\";}#sk-container-id-2 div.sk-estimator input.sk-toggleable__control:checked~label.sk-toggleable__label {background-color: #d4ebff;}#sk-container-id-2 div.sk-label input.sk-toggleable__control:checked~label.sk-toggleable__label {background-color: #d4ebff;}#sk-container-id-2 input.sk-hidden--visually {border: 0;clip: rect(1px 1px 1px 1px);clip: rect(1px, 1px, 1px, 1px);height: 1px;margin: -1px;overflow: hidden;padding: 0;position: absolute;width: 1px;}#sk-container-id-2 div.sk-estimator {font-family: monospace;background-color: #f0f8ff;border: 1px dotted black;border-radius: 0.25em;box-sizing: border-box;margin-bottom: 0.5em;}#sk-container-id-2 div.sk-estimator:hover {background-color: #d4ebff;}#sk-container-id-2 div.sk-parallel-item::after {content: \"\";width: 100%;border-bottom: 1px solid gray;flex-grow: 1;}#sk-container-id-2 div.sk-label:hover label.sk-toggleable__label {background-color: #d4ebff;}#sk-container-id-2 div.sk-serial::before {content: \"\";position: absolute;border-left: 1px solid gray;box-sizing: border-box;top: 0;bottom: 0;left: 50%;z-index: 0;}#sk-container-id-2 div.sk-serial {display: flex;flex-direction: column;align-items: center;background-color: white;padding-right: 0.2em;padding-left: 0.2em;position: relative;}#sk-container-id-2 div.sk-item {position: relative;z-index: 1;}#sk-container-id-2 div.sk-parallel {display: flex;align-items: stretch;justify-content: center;background-color: white;position: relative;}#sk-container-id-2 div.sk-item::before, #sk-container-id-2 div.sk-parallel-item::before {content: \"\";position: absolute;border-left: 1px solid gray;box-sizing: border-box;top: 0;bottom: 0;left: 50%;z-index: -1;}#sk-container-id-2 div.sk-parallel-item {display: flex;flex-direction: column;z-index: 1;position: relative;background-color: white;}#sk-container-id-2 div.sk-parallel-item:first-child::after {align-self: flex-end;width: 50%;}#sk-container-id-2 div.sk-parallel-item:last-child::after {align-self: flex-start;width: 50%;}#sk-container-id-2 div.sk-parallel-item:only-child::after {width: 0;}#sk-container-id-2 div.sk-dashed-wrapped {border: 1px dashed gray;margin: 0 0.4em 0.5em 0.4em;box-sizing: border-box;padding-bottom: 0.4em;background-color: white;}#sk-container-id-2 div.sk-label label {font-family: monospace;font-weight: bold;display: inline-block;line-height: 1.2em;}#sk-container-id-2 div.sk-label-container {text-align: center;}#sk-container-id-2 div.sk-container {/* jupyter's `normalize.less` sets `[hidden] { display: none; }` but bootstrap.min.css set `[hidden] { display: none !important; }` so we also need the `!important` here to be able to override the default hidden behavior on the sphinx rendered scikit-learn.org. See: https://github.com/scikit-learn/scikit-learn/issues/21755 */display: inline-block !important;position: relative;}#sk-container-id-2 div.sk-text-repr-fallback {display: none;}</style><div id=\"sk-container-id-2\" class=\"sk-top-container\"><div class=\"sk-text-repr-fallback\"><pre>RandomForestClassifier(random_state=42)</pre><b>In a Jupyter environment, please rerun this cell to show the HTML representation or trust the notebook. <br />On GitHub, the HTML representation is unable to render, please try loading this page with nbviewer.org.</b></div><div class=\"sk-container\" hidden><div class=\"sk-item\"><div class=\"sk-estimator sk-toggleable\"><input class=\"sk-toggleable__control sk-hidden--visually\" id=\"sk-estimator-id-2\" type=\"checkbox\" checked><label for=\"sk-estimator-id-2\" class=\"sk-toggleable__label sk-toggleable__label-arrow\">RandomForestClassifier</label><div class=\"sk-toggleable__content\"><pre>RandomForestClassifier(random_state=42)</pre></div></div></div></div></div>"
      ],
      "text/plain": [
       "RandomForestClassifier(random_state=42)"
      ]
     },
     "execution_count": 22,
     "metadata": {},
     "output_type": "execute_result"
    }
   ],
   "source": [
    "rf_classifier.fit(X_train,Y_train)"
   ]
  },
  {
   "cell_type": "code",
   "execution_count": 16,
   "metadata": {
    "id": "DHox-hk6oD9a"
   },
   "outputs": [],
   "source": [
    "iot.to_csv('cleaned_iot.csv',index=False)"
   ]
  },
  {
   "cell_type": "code",
   "execution_count": 17,
   "metadata": {
    "id": "DzE7WjpjvDoO"
   },
   "outputs": [],
   "source": [
    "df=pd.read_csv(\"cleaned_iot.csv\")"
   ]
  },
  {
   "cell_type": "code",
   "execution_count": 18,
   "metadata": {
    "id": "hi8LY8w0vMuw"
   },
   "outputs": [],
   "source": [
    "total_rows=df.shape[0]\n",
    "half_rows=total_rows//2\n",
    "\n",
    "first_half=df.iloc[:half_rows]\n",
    "second_half=df.iloc[half_rows:]\n"
   ]
  },
  {
   "cell_type": "code",
   "execution_count": 19,
   "metadata": {
    "id": "aH_GuPdavu2c"
   },
   "outputs": [],
   "source": [
    "first_half.to_csv('first_half.csv',index=False)\n",
    "second_half.to_csv('second_half.csv',index=False)"
   ]
  },
  {
   "cell_type": "code",
   "execution_count": 26,
   "metadata": {
    "colab": {
     "base_uri": "https://localhost:8080/",
     "height": 52
    },
    "id": "G9ajCY2_vc6f",
    "outputId": "9189e818-3b20-4824-ea23-b7d8c619ae31"
   },
   "outputs": [],
   "source": [
    "#from google.colab import files\n",
    "#files.download('first_half.csv')\n",
    "#files.download('second_half.csv')\n",
    "import pandas as pd\n",
    "first_half=pd.read_csv(\"first_half.csv\")\n",
    "second_half=pd.read_csv(\"second_half.csv\")\n"
   ]
  },
  {
   "cell_type": "code",
   "execution_count": 24,
   "metadata": {
    "id": "zu8FePkRwaqc"
   },
   "outputs": [],
   "source": [
    "X =first_half.drop(\"label\",axis=1)\n",
    "Y=first_half['label']"
   ]
  },
  {
   "cell_type": "code",
   "execution_count": 27,
   "metadata": {
    "id": "e15LcjqExMGL"
   },
   "outputs": [],
   "source": [
    "X_train,X_test,Y_train,Y_test=train_test_split(X,Y,test_size=0.2,random_state=42)"
   ]
  },
  {
   "cell_type": "code",
   "execution_count": 28,
   "metadata": {
    "id": "b4sn0dZ4xS65"
   },
   "outputs": [],
   "source": [
    "rf_classifier=RandomForestClassifier(n_estimators=100,random_state=42)"
   ]
  },
  {
   "cell_type": "code",
   "execution_count": 29,
   "metadata": {
    "colab": {
     "base_uri": "https://localhost:8080/",
     "height": 74
    },
    "id": "YIJM7Mv4xbeZ",
    "outputId": "a9c8ab92-0138-4303-8b01-c650aa805e34"
   },
   "outputs": [
    {
     "data": {
      "text/html": [
       "<style>#sk-container-id-3 {color: black;background-color: white;}#sk-container-id-3 pre{padding: 0;}#sk-container-id-3 div.sk-toggleable {background-color: white;}#sk-container-id-3 label.sk-toggleable__label {cursor: pointer;display: block;width: 100%;margin-bottom: 0;padding: 0.3em;box-sizing: border-box;text-align: center;}#sk-container-id-3 label.sk-toggleable__label-arrow:before {content: \"▸\";float: left;margin-right: 0.25em;color: #696969;}#sk-container-id-3 label.sk-toggleable__label-arrow:hover:before {color: black;}#sk-container-id-3 div.sk-estimator:hover label.sk-toggleable__label-arrow:before {color: black;}#sk-container-id-3 div.sk-toggleable__content {max-height: 0;max-width: 0;overflow: hidden;text-align: left;background-color: #f0f8ff;}#sk-container-id-3 div.sk-toggleable__content pre {margin: 0.2em;color: black;border-radius: 0.25em;background-color: #f0f8ff;}#sk-container-id-3 input.sk-toggleable__control:checked~div.sk-toggleable__content {max-height: 200px;max-width: 100%;overflow: auto;}#sk-container-id-3 input.sk-toggleable__control:checked~label.sk-toggleable__label-arrow:before {content: \"▾\";}#sk-container-id-3 div.sk-estimator input.sk-toggleable__control:checked~label.sk-toggleable__label {background-color: #d4ebff;}#sk-container-id-3 div.sk-label input.sk-toggleable__control:checked~label.sk-toggleable__label {background-color: #d4ebff;}#sk-container-id-3 input.sk-hidden--visually {border: 0;clip: rect(1px 1px 1px 1px);clip: rect(1px, 1px, 1px, 1px);height: 1px;margin: -1px;overflow: hidden;padding: 0;position: absolute;width: 1px;}#sk-container-id-3 div.sk-estimator {font-family: monospace;background-color: #f0f8ff;border: 1px dotted black;border-radius: 0.25em;box-sizing: border-box;margin-bottom: 0.5em;}#sk-container-id-3 div.sk-estimator:hover {background-color: #d4ebff;}#sk-container-id-3 div.sk-parallel-item::after {content: \"\";width: 100%;border-bottom: 1px solid gray;flex-grow: 1;}#sk-container-id-3 div.sk-label:hover label.sk-toggleable__label {background-color: #d4ebff;}#sk-container-id-3 div.sk-serial::before {content: \"\";position: absolute;border-left: 1px solid gray;box-sizing: border-box;top: 0;bottom: 0;left: 50%;z-index: 0;}#sk-container-id-3 div.sk-serial {display: flex;flex-direction: column;align-items: center;background-color: white;padding-right: 0.2em;padding-left: 0.2em;position: relative;}#sk-container-id-3 div.sk-item {position: relative;z-index: 1;}#sk-container-id-3 div.sk-parallel {display: flex;align-items: stretch;justify-content: center;background-color: white;position: relative;}#sk-container-id-3 div.sk-item::before, #sk-container-id-3 div.sk-parallel-item::before {content: \"\";position: absolute;border-left: 1px solid gray;box-sizing: border-box;top: 0;bottom: 0;left: 50%;z-index: -1;}#sk-container-id-3 div.sk-parallel-item {display: flex;flex-direction: column;z-index: 1;position: relative;background-color: white;}#sk-container-id-3 div.sk-parallel-item:first-child::after {align-self: flex-end;width: 50%;}#sk-container-id-3 div.sk-parallel-item:last-child::after {align-self: flex-start;width: 50%;}#sk-container-id-3 div.sk-parallel-item:only-child::after {width: 0;}#sk-container-id-3 div.sk-dashed-wrapped {border: 1px dashed gray;margin: 0 0.4em 0.5em 0.4em;box-sizing: border-box;padding-bottom: 0.4em;background-color: white;}#sk-container-id-3 div.sk-label label {font-family: monospace;font-weight: bold;display: inline-block;line-height: 1.2em;}#sk-container-id-3 div.sk-label-container {text-align: center;}#sk-container-id-3 div.sk-container {/* jupyter's `normalize.less` sets `[hidden] { display: none; }` but bootstrap.min.css set `[hidden] { display: none !important; }` so we also need the `!important` here to be able to override the default hidden behavior on the sphinx rendered scikit-learn.org. See: https://github.com/scikit-learn/scikit-learn/issues/21755 */display: inline-block !important;position: relative;}#sk-container-id-3 div.sk-text-repr-fallback {display: none;}</style><div id=\"sk-container-id-3\" class=\"sk-top-container\"><div class=\"sk-text-repr-fallback\"><pre>RandomForestClassifier(random_state=42)</pre><b>In a Jupyter environment, please rerun this cell to show the HTML representation or trust the notebook. <br />On GitHub, the HTML representation is unable to render, please try loading this page with nbviewer.org.</b></div><div class=\"sk-container\" hidden><div class=\"sk-item\"><div class=\"sk-estimator sk-toggleable\"><input class=\"sk-toggleable__control sk-hidden--visually\" id=\"sk-estimator-id-3\" type=\"checkbox\" checked><label for=\"sk-estimator-id-3\" class=\"sk-toggleable__label sk-toggleable__label-arrow\">RandomForestClassifier</label><div class=\"sk-toggleable__content\"><pre>RandomForestClassifier(random_state=42)</pre></div></div></div></div></div>"
      ],
      "text/plain": [
       "RandomForestClassifier(random_state=42)"
      ]
     },
     "execution_count": 29,
     "metadata": {},
     "output_type": "execute_result"
    }
   ],
   "source": [
    "rf_classifier.fit(X_train,Y_train)"
   ]
  },
  {
   "cell_type": "code",
   "execution_count": 30,
   "metadata": {
    "id": "nb_a56DnoQIR"
   },
   "outputs": [],
   "source": [
    "Y_pres=rf_classifier.predict(X_test)"
   ]
  },
  {
   "cell_type": "code",
   "execution_count": 31,
   "metadata": {
    "colab": {
     "base_uri": "https://localhost:8080/"
    },
    "id": "KRbzAbz0vBZG",
    "outputId": "2ae0f17c-a007-4be6-fe8b-f08eb2d0c2f8"
   },
   "outputs": [
    {
     "name": "stderr",
     "output_type": "stream",
     "text": [
      "C:\\Users\\hp\\anaconda3_1\\Lib\\site-packages\\sklearn\\metrics\\_classification.py:1344: UndefinedMetricWarning: Precision and F-score are ill-defined and being set to 0.0 in labels with no predicted samples. Use `zero_division` parameter to control this behavior.\n",
      "  _warn_prf(average, modifier, msg_start, len(result))\n",
      "C:\\Users\\hp\\anaconda3_1\\Lib\\site-packages\\sklearn\\metrics\\_classification.py:1344: UndefinedMetricWarning: Precision and F-score are ill-defined and being set to 0.0 in labels with no predicted samples. Use `zero_division` parameter to control this behavior.\n",
      "  _warn_prf(average, modifier, msg_start, len(result))\n",
      "C:\\Users\\hp\\anaconda3_1\\Lib\\site-packages\\sklearn\\metrics\\_classification.py:1344: UndefinedMetricWarning: Precision and F-score are ill-defined and being set to 0.0 in labels with no predicted samples. Use `zero_division` parameter to control this behavior.\n",
      "  _warn_prf(average, modifier, msg_start, len(result))\n"
     ]
    }
   ],
   "source": [
    "accuracy=accuracy_score(Y_test,Y_pres)\n",
    "conf_matrix=confusion_matrix(Y_test,Y_pres)\n",
    "class_report=classification_report(Y_test,Y_pres)"
   ]
  },
  {
   "cell_type": "code",
   "execution_count": 32,
   "metadata": {
    "colab": {
     "base_uri": "https://localhost:8080/"
    },
    "id": "kSGTeu2myUho",
    "outputId": "d3ea4e0e-f59e-4095-f7dc-af8e26847fee"
   },
   "outputs": [
    {
     "name": "stdout",
     "output_type": "stream",
     "text": [
      "Accuracy: 0.99\n",
      "Confusion Matrix:\n",
      " [[   0    0    0 ...    0    0    0]\n",
      " [   0 2433    0 ...    0    0    0]\n",
      " [   0    5    0 ...    0    0    0]\n",
      " ...\n",
      " [   0    1    0 ...    0    0    0]\n",
      " [   0    1    0 ...    0   77    0]\n",
      " [   0    3    0 ...    0    0    0]]\n",
      "Classification Report:\n",
      "                          precision    recall  f1-score   support\n",
      "\n",
      "       Backdoor_Malware       0.00      0.00      0.00         6\n",
      "          BenignTraffic       0.86      0.99      0.92      2470\n",
      "       BrowserHijacking       0.00      0.00      0.00        14\n",
      "       CommandInjection       0.67      0.15      0.25        13\n",
      " DDoS-ACK_Fragmentation       1.00      0.99      0.99       679\n",
      "        DDoS-HTTP_Flood       0.95      0.95      0.95        66\n",
      "        DDoS-ICMP_Flood       1.00      1.00      1.00     16209\n",
      "DDoS-ICMP_Fragmentation       0.99      0.99      0.99      1014\n",
      "      DDoS-PSHACK_Flood       1.00      1.00      1.00      9163\n",
      "       DDoS-RSTFINFlood       1.00      1.00      1.00      9055\n",
      "         DDoS-SYN_Flood       1.00      1.00      1.00      9150\n",
      "         DDoS-SlowLoris       0.79      0.92      0.85        52\n",
      "DDoS-SynonymousIP_Flood       1.00      1.00      1.00      7979\n",
      "         DDoS-TCP_Flood       1.00      1.00      1.00     10015\n",
      "         DDoS-UDP_Flood       1.00      1.00      1.00     12204\n",
      " DDoS-UDP_Fragmentation       1.00      0.99      0.99       672\n",
      "           DNS_Spoofing       0.79      0.71      0.75       429\n",
      "   DictionaryBruteForce       0.75      0.13      0.22        23\n",
      "         DoS-HTTP_Flood       0.97      0.98      0.98       179\n",
      "          DoS-SYN_Flood       1.00      1.00      1.00      4525\n",
      "          DoS-TCP_Flood       1.00      1.00      1.00      5940\n",
      "          DoS-UDP_Flood       1.00      1.00      1.00      7495\n",
      "       MITM-ArpSpoofing       0.90      0.80      0.85       737\n",
      "     Mirai-greeth_flood       1.00      1.00      1.00      2219\n",
      "      Mirai-greip_flood       1.00      1.00      1.00      1697\n",
      "         Mirai-udpplain       1.00      1.00      1.00      2057\n",
      "    Recon-HostDiscovery       0.82      0.84      0.83       295\n",
      "           Recon-OSScan       0.75      0.42      0.54       211\n",
      "        Recon-PingSweep       0.00      0.00      0.00         4\n",
      "         Recon-PortScan       0.71      0.51      0.60       177\n",
      "           SqlInjection       0.00      0.00      0.00        13\n",
      "       Uploading_Attack       0.00      0.00      0.00         5\n",
      "      VulnerabilityScan       0.86      0.97      0.91        79\n",
      "                    XSS       0.00      0.00      0.00        12\n",
      "\n",
      "               accuracy                           0.99    104858\n",
      "              macro avg       0.76      0.72      0.72    104858\n",
      "           weighted avg       0.99      0.99      0.99    104858\n",
      "\n"
     ]
    }
   ],
   "source": [
    "print(f'Accuracy: {accuracy:.2f}')\n",
    "#print('Confusion Matrix:\\n', conf_matrix)\n",
    "print('Classification Report:\\n', class_report)"
   ]
  },
  {
   "cell_type": "code",
   "execution_count": 33,
   "metadata": {
    "id": "XXxRv43zy1BD"
   },
   "outputs": [],
   "source": [
    "X =second_half.drop(\"label\",axis=1)\n",
    "Y=second_half['label']"
   ]
  },
  {
   "cell_type": "code",
   "execution_count": 34,
   "metadata": {
    "id": "A9qbr52jzA-e"
   },
   "outputs": [],
   "source": [
    "X_train,X_test,Y_train,Y_test=train_test_split(X,Y,test_size=0.2,random_state=42)"
   ]
  },
  {
   "cell_type": "code",
   "execution_count": 35,
   "metadata": {
    "id": "Rwg8y4xhzRO0"
   },
   "outputs": [],
   "source": [
    "rf_classifier=RandomForestClassifier(n_estimators=100,random_state=42)"
   ]
  },
  {
   "cell_type": "code",
   "execution_count": 36,
   "metadata": {
    "colab": {
     "base_uri": "https://localhost:8080/",
     "height": 74
    },
    "id": "u5tyPVUWzXve",
    "outputId": "6b0c7b09-cd26-4cb1-8d9e-84fda9b73470"
   },
   "outputs": [
    {
     "data": {
      "text/html": [
       "<style>#sk-container-id-4 {color: black;background-color: white;}#sk-container-id-4 pre{padding: 0;}#sk-container-id-4 div.sk-toggleable {background-color: white;}#sk-container-id-4 label.sk-toggleable__label {cursor: pointer;display: block;width: 100%;margin-bottom: 0;padding: 0.3em;box-sizing: border-box;text-align: center;}#sk-container-id-4 label.sk-toggleable__label-arrow:before {content: \"▸\";float: left;margin-right: 0.25em;color: #696969;}#sk-container-id-4 label.sk-toggleable__label-arrow:hover:before {color: black;}#sk-container-id-4 div.sk-estimator:hover label.sk-toggleable__label-arrow:before {color: black;}#sk-container-id-4 div.sk-toggleable__content {max-height: 0;max-width: 0;overflow: hidden;text-align: left;background-color: #f0f8ff;}#sk-container-id-4 div.sk-toggleable__content pre {margin: 0.2em;color: black;border-radius: 0.25em;background-color: #f0f8ff;}#sk-container-id-4 input.sk-toggleable__control:checked~div.sk-toggleable__content {max-height: 200px;max-width: 100%;overflow: auto;}#sk-container-id-4 input.sk-toggleable__control:checked~label.sk-toggleable__label-arrow:before {content: \"▾\";}#sk-container-id-4 div.sk-estimator input.sk-toggleable__control:checked~label.sk-toggleable__label {background-color: #d4ebff;}#sk-container-id-4 div.sk-label input.sk-toggleable__control:checked~label.sk-toggleable__label {background-color: #d4ebff;}#sk-container-id-4 input.sk-hidden--visually {border: 0;clip: rect(1px 1px 1px 1px);clip: rect(1px, 1px, 1px, 1px);height: 1px;margin: -1px;overflow: hidden;padding: 0;position: absolute;width: 1px;}#sk-container-id-4 div.sk-estimator {font-family: monospace;background-color: #f0f8ff;border: 1px dotted black;border-radius: 0.25em;box-sizing: border-box;margin-bottom: 0.5em;}#sk-container-id-4 div.sk-estimator:hover {background-color: #d4ebff;}#sk-container-id-4 div.sk-parallel-item::after {content: \"\";width: 100%;border-bottom: 1px solid gray;flex-grow: 1;}#sk-container-id-4 div.sk-label:hover label.sk-toggleable__label {background-color: #d4ebff;}#sk-container-id-4 div.sk-serial::before {content: \"\";position: absolute;border-left: 1px solid gray;box-sizing: border-box;top: 0;bottom: 0;left: 50%;z-index: 0;}#sk-container-id-4 div.sk-serial {display: flex;flex-direction: column;align-items: center;background-color: white;padding-right: 0.2em;padding-left: 0.2em;position: relative;}#sk-container-id-4 div.sk-item {position: relative;z-index: 1;}#sk-container-id-4 div.sk-parallel {display: flex;align-items: stretch;justify-content: center;background-color: white;position: relative;}#sk-container-id-4 div.sk-item::before, #sk-container-id-4 div.sk-parallel-item::before {content: \"\";position: absolute;border-left: 1px solid gray;box-sizing: border-box;top: 0;bottom: 0;left: 50%;z-index: -1;}#sk-container-id-4 div.sk-parallel-item {display: flex;flex-direction: column;z-index: 1;position: relative;background-color: white;}#sk-container-id-4 div.sk-parallel-item:first-child::after {align-self: flex-end;width: 50%;}#sk-container-id-4 div.sk-parallel-item:last-child::after {align-self: flex-start;width: 50%;}#sk-container-id-4 div.sk-parallel-item:only-child::after {width: 0;}#sk-container-id-4 div.sk-dashed-wrapped {border: 1px dashed gray;margin: 0 0.4em 0.5em 0.4em;box-sizing: border-box;padding-bottom: 0.4em;background-color: white;}#sk-container-id-4 div.sk-label label {font-family: monospace;font-weight: bold;display: inline-block;line-height: 1.2em;}#sk-container-id-4 div.sk-label-container {text-align: center;}#sk-container-id-4 div.sk-container {/* jupyter's `normalize.less` sets `[hidden] { display: none; }` but bootstrap.min.css set `[hidden] { display: none !important; }` so we also need the `!important` here to be able to override the default hidden behavior on the sphinx rendered scikit-learn.org. See: https://github.com/scikit-learn/scikit-learn/issues/21755 */display: inline-block !important;position: relative;}#sk-container-id-4 div.sk-text-repr-fallback {display: none;}</style><div id=\"sk-container-id-4\" class=\"sk-top-container\"><div class=\"sk-text-repr-fallback\"><pre>RandomForestClassifier(random_state=42)</pre><b>In a Jupyter environment, please rerun this cell to show the HTML representation or trust the notebook. <br />On GitHub, the HTML representation is unable to render, please try loading this page with nbviewer.org.</b></div><div class=\"sk-container\" hidden><div class=\"sk-item\"><div class=\"sk-estimator sk-toggleable\"><input class=\"sk-toggleable__control sk-hidden--visually\" id=\"sk-estimator-id-4\" type=\"checkbox\" checked><label for=\"sk-estimator-id-4\" class=\"sk-toggleable__label sk-toggleable__label-arrow\">RandomForestClassifier</label><div class=\"sk-toggleable__content\"><pre>RandomForestClassifier(random_state=42)</pre></div></div></div></div></div>"
      ],
      "text/plain": [
       "RandomForestClassifier(random_state=42)"
      ]
     },
     "execution_count": 36,
     "metadata": {},
     "output_type": "execute_result"
    }
   ],
   "source": [
    "rf_classifier.fit(X_train,Y_train)"
   ]
  },
  {
   "cell_type": "code",
   "execution_count": 37,
   "metadata": {
    "colab": {
     "base_uri": "https://localhost:8080/"
    },
    "id": "c5a2FEibzxnD",
    "outputId": "bc53c9db-3922-428f-d236-accfc5f3d4f1"
   },
   "outputs": [
    {
     "name": "stderr",
     "output_type": "stream",
     "text": [
      "C:\\Users\\hp\\anaconda3_1\\Lib\\site-packages\\sklearn\\metrics\\_classification.py:1344: UndefinedMetricWarning: Precision and F-score are ill-defined and being set to 0.0 in labels with no predicted samples. Use `zero_division` parameter to control this behavior.\n",
      "  _warn_prf(average, modifier, msg_start, len(result))\n",
      "C:\\Users\\hp\\anaconda3_1\\Lib\\site-packages\\sklearn\\metrics\\_classification.py:1344: UndefinedMetricWarning: Precision and F-score are ill-defined and being set to 0.0 in labels with no predicted samples. Use `zero_division` parameter to control this behavior.\n",
      "  _warn_prf(average, modifier, msg_start, len(result))\n",
      "C:\\Users\\hp\\anaconda3_1\\Lib\\site-packages\\sklearn\\metrics\\_classification.py:1344: UndefinedMetricWarning: Precision and F-score are ill-defined and being set to 0.0 in labels with no predicted samples. Use `zero_division` parameter to control this behavior.\n",
      "  _warn_prf(average, modifier, msg_start, len(result))\n"
     ]
    }
   ],
   "source": [
    "accuracy=accuracy_score(Y_test,Y_pres)\n",
    "conf_matrix=confusion_matrix(Y_test,Y_pres)\n",
    "class_report=classification_report(Y_test,Y_pres)"
   ]
  },
  {
   "cell_type": "code",
   "execution_count": 38,
   "metadata": {
    "colab": {
     "base_uri": "https://localhost:8080/"
    },
    "id": "YRzEx0eSz2yE",
    "outputId": "806630a5-753e-488d-df9b-de943f6f3a47"
   },
   "outputs": [
    {
     "name": "stdout",
     "output_type": "stream",
     "text": [
      "Accuracy: 0.09\n",
      "Confusion Matrix:\n",
      " [[ 0  0  0 ...  0  0  0]\n",
      " [ 0 50  0 ...  0  2  0]\n",
      " [ 0  0  0 ...  0  0  0]\n",
      " ...\n",
      " [ 0  0  0 ...  0  0  0]\n",
      " [ 0  2  0 ...  0  0  0]\n",
      " [ 0  0  0 ...  0  0  0]]\n",
      "Classification Report:\n",
      "                          precision    recall  f1-score   support\n",
      "\n",
      "       Backdoor_Malware       0.00      0.00      0.00         6\n",
      "          BenignTraffic       0.02      0.02      0.02      2391\n",
      "       BrowserHijacking       0.00      0.00      0.00        13\n",
      "       CommandInjection       0.00      0.00      0.00        11\n",
      " DDoS-ACK_Fragmentation       0.00      0.00      0.00       610\n",
      "        DDoS-HTTP_Flood       0.00      0.00      0.00        52\n",
      "        DDoS-ICMP_Flood       0.15      0.15      0.15     16091\n",
      "DDoS-ICMP_Fragmentation       0.01      0.01      0.01       967\n",
      "      DDoS-PSHACK_Flood       0.09      0.09      0.09      9195\n",
      "       DDoS-RSTFINFlood       0.09      0.09      0.09      9112\n",
      "         DDoS-SYN_Flood       0.09      0.08      0.08      9285\n",
      "         DDoS-SlowLoris       0.00      0.00      0.00        42\n",
      "DDoS-SynonymousIP_Flood       0.08      0.08      0.08      8037\n",
      "         DDoS-TCP_Flood       0.10      0.10      0.10     10171\n",
      "         DDoS-UDP_Flood       0.11      0.11      0.11     12072\n",
      " DDoS-UDP_Fragmentation       0.00      0.00      0.00       652\n",
      "           DNS_Spoofing       0.01      0.00      0.00       429\n",
      "   DictionaryBruteForce       0.00      0.00      0.00        30\n",
      "         DoS-HTTP_Flood       0.00      0.00      0.00       159\n",
      "          DoS-SYN_Flood       0.04      0.04      0.04      4579\n",
      "          DoS-TCP_Flood       0.06      0.06      0.06      6014\n",
      "          DoS-UDP_Flood       0.07      0.07      0.07      7536\n",
      "       MITM-ArpSpoofing       0.01      0.01      0.01       699\n",
      "     Mirai-greeth_flood       0.02      0.02      0.02      2210\n",
      "      Mirai-greip_flood       0.01      0.01      0.01      1653\n",
      "         Mirai-udpplain       0.02      0.02      0.02      2033\n",
      "    Recon-HostDiscovery       0.00      0.00      0.00       277\n",
      "           Recon-OSScan       0.00      0.00      0.00       230\n",
      "        Recon-PingSweep       0.00      0.00      0.00         4\n",
      "         Recon-PortScan       0.01      0.00      0.01       204\n",
      "           SqlInjection       0.00      0.00      0.00        11\n",
      "       Uploading_Attack       0.00      0.00      0.00         2\n",
      "      VulnerabilityScan       0.00      0.00      0.00        75\n",
      "                    XSS       0.00      0.00      0.00         6\n",
      "\n",
      "               accuracy                           0.09    104858\n",
      "              macro avg       0.03      0.03      0.03    104858\n",
      "           weighted avg       0.09      0.09      0.09    104858\n",
      "\n"
     ]
    }
   ],
   "source": [
    "print(f'Accuracy: {accuracy:.2f}')\n",
    "#print('Confusion Matrix:\\n', conf_matrix)\n",
    "print('Classification Report:\\n', class_report)"
   ]
  },
  {
   "cell_type": "code",
   "execution_count": 1,
   "metadata": {
    "id": "36Ao_wua4im1"
   },
   "outputs": [],
   "source": [
    "from collections import Counter\n",
    "import matplotlib.pyplot as plt\n"
   ]
  },
  {
   "cell_type": "code",
   "execution_count": null,
   "metadata": {},
   "outputs": [],
   "source": []
  },
  {
   "cell_type": "code",
   "execution_count": null,
   "metadata": {},
   "outputs": [],
   "source": []
  },
  {
   "cell_type": "code",
   "execution_count": null,
   "metadata": {},
   "outputs": [],
   "source": []
  }
 ],
 "metadata": {
  "colab": {
   "provenance": []
  },
  "kernelspec": {
   "display_name": "Python 3 (ipykernel)",
   "language": "python",
   "name": "python3"
  },
  "language_info": {
   "codemirror_mode": {
    "name": "ipython",
    "version": 3
   },
   "file_extension": ".py",
   "mimetype": "text/x-python",
   "name": "python",
   "nbconvert_exporter": "python",
   "pygments_lexer": "ipython3",
   "version": "3.11.3"
  }
 },
 "nbformat": 4,
 "nbformat_minor": 1
}
